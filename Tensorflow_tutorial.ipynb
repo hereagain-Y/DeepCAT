{
  "nbformat": 4,
  "nbformat_minor": 0,
  "metadata": {
    "colab": {
      "name": "Tensorflow tutorial",
      "provenance": [],
      "authorship_tag": "ABX9TyMwfZ4gu35HELvZvZgq8rm/",
      "include_colab_link": true
    },
    "kernelspec": {
      "name": "python3",
      "display_name": "Python 3"
    },
    "language_info": {
      "name": "python"
    },
    "accelerator": "GPU"
  },
  "cells": [
    {
      "cell_type": "markdown",
      "metadata": {
        "id": "view-in-github",
        "colab_type": "text"
      },
      "source": [
        "<a href=\"https://colab.research.google.com/github/hereagain-Y/DeepCAT/blob/master/Tensorflow_tutorial.ipynb\" target=\"_parent\"><img src=\"https://colab.research.google.com/assets/colab-badge.svg\" alt=\"Open In Colab\"/></a>"
      ]
    },
    {
      "cell_type": "code",
      "execution_count": 13,
      "metadata": {
        "id": "stvBIqHfpUVR"
      },
      "outputs": [],
      "source": [
        "import tensorflow as tf\n",
        "\n",
        "# if u were using tensor 2.0\n",
        "\n",
        "tf.compat.v1.disable_eager_execution()\n"
      ]
    },
    {
      "cell_type": "code",
      "source": [
        "matrix1=tf.constant([[3,3]])# 1 *2\n",
        "matrix2=tf.constant([[2],[2]])#2*1\n",
        "product=tf.matmul(matrix1,matrix2) #np.dot(x,y)"
      ],
      "metadata": {
        "id": "2AQmI7eRqLNf"
      },
      "execution_count": 14,
      "outputs": []
    },
    {
      "cell_type": "code",
      "source": [
        "product"
      ],
      "metadata": {
        "colab": {
          "base_uri": "https://localhost:8080/"
        },
        "id": "Y18hxdjfuwi0",
        "outputId": "21ee4b84-2771-4091-8d22-394351a7a392"
      },
      "execution_count": 5,
      "outputs": [
        {
          "output_type": "execute_result",
          "data": {
            "text/plain": [
              "<tf.Tensor: shape=(1, 1), dtype=int32, numpy=array([[12]], dtype=int32)>"
            ]
          },
          "metadata": {},
          "execution_count": 5
        }
      ]
    },
    {
      "cell_type": "code",
      "source": [
        "# method 1\n",
        "sess=tf.compat.v1.Session()# tf 2.0\n",
        "result=sess.run(product)\n",
        "print(result)\n",
        "sess.close()"
      ],
      "metadata": {
        "colab": {
          "base_uri": "https://localhost:8080/"
        },
        "id": "nhHBrbIfu0Ni",
        "outputId": "b1959b5b-cd6c-49e6-d224-e8e8117301e8"
      },
      "execution_count": 15,
      "outputs": [
        {
          "output_type": "stream",
          "name": "stdout",
          "text": [
            "[[12]]\n"
          ]
        }
      ]
    },
    {
      "cell_type": "code",
      "source": [
        "# method 2\n",
        "with tf.compat.v1.Session() as sess:\n",
        "  result2=sess.run(product)\n",
        "  print(result2)\n",
        "# automatically close session"
      ],
      "metadata": {
        "colab": {
          "base_uri": "https://localhost:8080/"
        },
        "id": "b7IW28QuwzE4",
        "outputId": "f516c528-41a0-4d9c-c6c4-a654b380ad23"
      },
      "execution_count": 16,
      "outputs": [
        {
          "output_type": "stream",
          "name": "stdout",
          "text": [
            "[[12]]\n"
          ]
        }
      ]
    },
    {
      "cell_type": "markdown",
      "source": [
        "## Variable "
      ],
      "metadata": {
        "id": "qAgD6GqExLMb"
      }
    },
    {
      "cell_type": "code",
      "source": [
        "state=tf.Variable(0,name=\"counter\")\n",
        "print(state.name)"
      ],
      "metadata": {
        "colab": {
          "base_uri": "https://localhost:8080/"
        },
        "id": "8GaxGEFAxMtZ",
        "outputId": "09ddd186-dd14-40b2-e747-47116b2ec4fd"
      },
      "execution_count": 18,
      "outputs": [
        {
          "output_type": "stream",
          "name": "stdout",
          "text": [
            "counter_1:0\n"
          ]
        }
      ]
    },
    {
      "cell_type": "code",
      "source": [
        "one=tf.constant(1)\n",
        "new_val=tf.add(state,one)\n",
        "update=tf.compat.v1.assign(state,new_val)\n",
        "\n",
        "init=tf.compat.v1.initialize_all_variables()#must have if define variable\n",
        "with tf.compat.v1.Session() as sess:\n",
        "  sess.run(init) #**初始化变量\n",
        "  for _ in range(3):\n",
        "    sess.run(update)\n",
        "    print(sess.run(state))\n",
        "    \n",
        "\n"
      ],
      "metadata": {
        "colab": {
          "base_uri": "https://localhost:8080/"
        },
        "id": "CtmU_HBtxWMU",
        "outputId": "21d96379-de8c-4c08-e45b-20d4a53f87d5"
      },
      "execution_count": 21,
      "outputs": [
        {
          "output_type": "stream",
          "name": "stdout",
          "text": [
            "WARNING:tensorflow:From /usr/local/lib/python3.7/dist-packages/tensorflow/python/util/tf_should_use.py:243: initialize_all_variables (from tensorflow.python.ops.variables) is deprecated and will be removed after 2017-03-02.\n",
            "Instructions for updating:\n",
            "Use `tf.global_variables_initializer` instead.\n",
            "1\n",
            "2\n",
            "3\n"
          ]
        }
      ]
    },
    {
      "cell_type": "markdown",
      "source": [
        "## Place holder "
      ],
      "metadata": {
        "id": "vYreoAi0yhzJ"
      }
    },
    {
      "cell_type": "code",
      "source": [
        "input1=tf.compat.v1.placeholder(tf.float32)\n",
        "input2=tf.compat.v1.placeholder(tf.float32)\n",
        "\n",
        "out=tf.multiply(input1,input2)"
      ],
      "metadata": {
        "id": "FrPgxJ_AykGY"
      },
      "execution_count": 28,
      "outputs": []
    },
    {
      "cell_type": "code",
      "source": [
        "with tf.compat.v1.Session() as sess:\n",
        "  print(sess.run(out,feed_dict={input1:[7.],input2:[2.]}))#input a value to placeholder as a dictionary\n",
        "  "
      ],
      "metadata": {
        "colab": {
          "base_uri": "https://localhost:8080/"
        },
        "id": "_WSrIO8Iyzlt",
        "outputId": "f6e7dfa8-0699-45b4-a94f-a1598b37e36d"
      },
      "execution_count": 29,
      "outputs": [
        {
          "output_type": "stream",
          "name": "stdout",
          "text": [
            "[14.]\n"
          ]
        }
      ]
    },
    {
      "cell_type": "markdown",
      "source": [
        "## Add layer"
      ],
      "metadata": {
        "id": "OAl01qHY1Qg5"
      }
    },
    {
      "cell_type": "code",
      "source": [
        "def add_layer(inputs,in_size,out_size,activation_function=None):\n",
        "  # add layers in plot\n",
        "  with tf.name_scope('layer'):\n",
        "    with tf.name_scope('weights'):\n",
        "      Weights=tf.Variable(tf.random.normal([in_size,out_size]),name='W')# insize*outsize\n",
        "    with tf.name_scope('biases'):\n",
        "      biases=tf.Variable(tf.zeros([1,out_size])+0.1)\n",
        "    with tf.name_scope('Wx_plus_b'):\n",
        "    \n",
        "      Wx_plus_b=tf.matmul(inputs,Weights)+biases\n",
        "    # activation\n",
        "    if activation_function is None: # assume is linear\n",
        "      outputs=Wx_plus_b\n",
        "    else:\n",
        "      outputs=activation_function(Wx_plus_b)\n",
        "    return outputs"
      ],
      "metadata": {
        "id": "ebN9IEwT1STv"
      },
      "execution_count": 53,
      "outputs": []
    },
    {
      "cell_type": "code",
      "source": [
        "import numpy as np"
      ],
      "metadata": {
        "id": "cxVNvqkv2Uaa"
      },
      "execution_count": 30,
      "outputs": []
    },
    {
      "cell_type": "code",
      "source": [
        "x_data=np.linspace(-1,1,300)[:,np.newaxis]\n",
        "noise=np.random.normal(0,0.05,x_data.shape)\n",
        "y_data=np.square(x_data)-0.5+noise\n",
        "with tf.name_scope('inputs'):\n",
        "  xs=tf.compat.v1.placeholder(tf.float32,shape=[None,1],name=\"x_input\")# 未知维度\n",
        "  ys=tf.compat.v1.placeholder(tf.float32,shape=[None,1],name=\"y_input\")"
      ],
      "metadata": {
        "id": "EJh41hbG2ZUz"
      },
      "execution_count": 55,
      "outputs": []
    },
    {
      "cell_type": "code",
      "source": [
        "# add hiden layer\n",
        "l1=add_layer(xs,1,10,activation_function=tf.nn.relu) # l1 with activation function \n",
        "# add output layer\n",
        "prediction=add_layer(l1,10,1,activation_function=None)\n",
        "\n",
        "with tf.name_scope('loss'):\n",
        "\n",
        "  loss=tf.reduce_mean(tf.reduce_sum(tf.square(ys-prediction),axis= 1)) # loss function \n",
        "\n"
      ],
      "metadata": {
        "id": "B5DJZQqJ2whB"
      },
      "execution_count": 56,
      "outputs": []
    },
    {
      "cell_type": "code",
      "source": [
        "with tf.name_scope('train'):\n",
        "  train_step=tf.compat.v1.train.GradientDescentOptimizer(0.1).minimize(loss)"
      ],
      "metadata": {
        "id": "HOJSQnfp3eN2"
      },
      "execution_count": 57,
      "outputs": []
    },
    {
      "cell_type": "code",
      "source": [
        "init=tf.compat.v1.initialize_all_variables()#must have if define variable\n",
        "with tf.compat.v1.Session() as sess:\n",
        "  sess.run(init) #**初始化变量\n",
        "  for i in range(1000):\n",
        "    sess.run(train_step,feed_dict={xs:x_data,ys:y_data})\n",
        "    if i%50==0:\n",
        "      print(sess.run(loss,feed_dict={xs:x_data,ys:y_data}))"
      ],
      "metadata": {
        "colab": {
          "base_uri": "https://localhost:8080/"
        },
        "id": "vGiqVbqM365j",
        "outputId": "d98d14b7-abb4-4617-f82b-913ddee25bac"
      },
      "execution_count": 69,
      "outputs": [
        {
          "output_type": "stream",
          "name": "stdout",
          "text": [
            "0.1770938\n",
            "0.017269738\n",
            "0.008209351\n",
            "0.005997506\n",
            "0.0053618834\n",
            "0.005129197\n",
            "0.0050115385\n",
            "0.0049124504\n",
            "0.0048226737\n",
            "0.0047208583\n",
            "0.004622374\n",
            "0.0045214184\n",
            "0.004415348\n",
            "0.004309911\n",
            "0.004213582\n",
            "0.0041250573\n",
            "0.0040429314\n",
            "0.0039876485\n",
            "0.003934199\n",
            "0.003887031\n"
          ]
        }
      ]
    },
    {
      "cell_type": "code",
      "source": [
        "!pwd"
      ],
      "metadata": {
        "colab": {
          "base_uri": "https://localhost:8080/"
        },
        "id": "1YMTvsrcCUJP",
        "outputId": "4e5e19c3-015e-4cbc-ff53-cdf7fe74eee4"
      },
      "execution_count": 68,
      "outputs": [
        {
          "output_type": "stream",
          "name": "stdout",
          "text": [
            "/content\n"
          ]
        }
      ]
    },
    {
      "cell_type": "markdown",
      "source": [
        "## Optimizer\n",
        "SGD    \n",
        "\n",
        "AdaGrad    \n",
        "\n",
        "Momentum\n"
      ],
      "metadata": {
        "id": "myCcEkXe-xu3"
      }
    },
    {
      "cell_type": "code",
      "source": [
        ""
      ],
      "metadata": {
        "id": "Feja9BHd_KCf"
      },
      "execution_count": null,
      "outputs": []
    }
  ]
}